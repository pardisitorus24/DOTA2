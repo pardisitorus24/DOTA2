{
  "nbformat": 4,
  "nbformat_minor": 0,
  "metadata": {
    "colab": {
      "provenance": []
    },
    "kernelspec": {
      "name": "python3",
      "display_name": "Python 3"
    },
    "language_info": {
      "name": "python"
    }
  },
  "cells": [
    {
      "cell_type": "markdown",
      "source": [
        "# Pardi Octaviando\n",
        "# 122450132\n",
        "## Ujian Praktikum Pembelajaran Mesin\n",
        "## Senin 2 Desember 2024\n"
      ],
      "metadata": {
        "id": "4qhgbzEaa2cr"
      }
    },
    {
      "cell_type": "markdown",
      "source": [
        "## Soal 1"
      ],
      "metadata": {
        "id": "k41hD0ACa19b"
      }
    },
    {
      "cell_type": "code",
      "source": [],
      "metadata": {
        "id": "3H8loeqcbExs"
      },
      "execution_count": null,
      "outputs": []
    },
    {
      "cell_type": "markdown",
      "source": [
        "## Soal 2"
      ],
      "metadata": {
        "id": "Q6nT6OoNbE2w"
      }
    },
    {
      "cell_type": "code",
      "source": [],
      "metadata": {
        "id": "E2H-IOENbE6U"
      },
      "execution_count": null,
      "outputs": []
    },
    {
      "cell_type": "code",
      "source": [],
      "metadata": {
        "id": "jOWffjjDefdX"
      },
      "execution_count": null,
      "outputs": []
    },
    {
      "cell_type": "code",
      "source": [],
      "metadata": {
        "id": "LliT6Dv0efho"
      },
      "execution_count": null,
      "outputs": []
    },
    {
      "cell_type": "code",
      "source": [],
      "metadata": {
        "id": "Xsvf7YWCefkq"
      },
      "execution_count": null,
      "outputs": []
    },
    {
      "cell_type": "code",
      "source": [],
      "metadata": {
        "id": "ugqJN7Gkefns"
      },
      "execution_count": null,
      "outputs": []
    },
    {
      "cell_type": "code",
      "source": [],
      "metadata": {
        "id": "enE71O3Oefqs"
      },
      "execution_count": null,
      "outputs": []
    },
    {
      "cell_type": "code",
      "source": [],
      "metadata": {
        "id": "jvvEC93Fefto"
      },
      "execution_count": null,
      "outputs": []
    },
    {
      "cell_type": "code",
      "source": [],
      "metadata": {
        "id": "fAQiHuFhefwv"
      },
      "execution_count": null,
      "outputs": []
    },
    {
      "cell_type": "code",
      "source": [],
      "metadata": {
        "id": "A4vYrqXEefz9"
      },
      "execution_count": null,
      "outputs": []
    },
    {
      "cell_type": "code",
      "source": [],
      "metadata": {
        "id": "mGafCalDef3h"
      },
      "execution_count": null,
      "outputs": []
    },
    {
      "cell_type": "code",
      "source": [],
      "metadata": {
        "id": "9kUhLNC1ef63"
      },
      "execution_count": null,
      "outputs": []
    },
    {
      "cell_type": "code",
      "source": [],
      "metadata": {
        "id": "bcYZjXMoef97"
      },
      "execution_count": null,
      "outputs": []
    },
    {
      "cell_type": "code",
      "source": [],
      "metadata": {
        "id": "i535PXpcegBU"
      },
      "execution_count": null,
      "outputs": []
    },
    {
      "cell_type": "code",
      "source": [],
      "metadata": {
        "id": "-5KG-uTaegEf"
      },
      "execution_count": null,
      "outputs": []
    },
    {
      "cell_type": "code",
      "source": [],
      "metadata": {
        "id": "Z2XIRQJfegIA"
      },
      "execution_count": null,
      "outputs": []
    },
    {
      "cell_type": "code",
      "source": [],
      "metadata": {
        "id": "CpLJZgSVegLR"
      },
      "execution_count": null,
      "outputs": []
    },
    {
      "cell_type": "markdown",
      "source": [
        "## Soal 1"
      ],
      "metadata": {
        "id": "cg2Arg7ZegOo"
      }
    },
    {
      "cell_type": "code",
      "source": [
        "import numpy as np\n",
        "import pandas as pd\n",
        "from sklearn.model_selection import train_test_split\n",
        "from sklearn.linear_model import LinearRegression, LogisticRegression\n",
        "from sklearn.metrics import accuracy_score, r2_score\n",
        "\n",
        "np.random.seed(42)\n",
        "\n",
        "X = np.random.rand(100, 2) * 10\n",
        "y_linear = 3 * X[:, 0] + 2 * X[:, 1] + 5 + np.random.randn(100) * 2\n",
        "y_logistic = (X[:, 0] + X[:, 1] > 10).astype(int)\n",
        "X_train, X_test, y_train_linear, y_test_linear = train_test_split(X, y_linear, test_size=0.2,\n",
        "random_state=42)\n",
        "\n",
        "lin_reg = LinearRegression()\n",
        "lin_reg.fit(X_train, y_train_linear)\n",
        "\n",
        "y_pred_linear = lin_reg.predict(X_test)\n",
        "print(\"Linear Regression R2 Score:\", r2_score(y_test_linear, y_pred_linear))\n",
        "\n",
        "X_train, X_test, y_train_logistic, y_test_logistic = train_test_split(X, y_logistic,\n",
        "test_size=0.2, random_state=42)\n",
        "\n",
        "log_reg = LogisticRegression()\n",
        "log_reg.fit(X_train, y_train_logistic)\n",
        "\n",
        "y_pred_logistic = log_reg.predict(X_test)\n",
        "print(\"Logistic Regression Accuracy:\", accuracy_score(y_test_logistic, y_pred_logistic))\n",
        "\n"
      ],
      "metadata": {
        "id": "Ajgb-UWNqc30",
        "outputId": "5e9b016d-e91b-42c8-baa6-f3c33b1d2b5e",
        "colab": {
          "base_uri": "https://localhost:8080/"
        }
      },
      "execution_count": 22,
      "outputs": [
        {
          "output_type": "stream",
          "name": "stdout",
          "text": [
            "Linear Regression R2 Score: 0.9611277038272865\n",
            "Logistic Regression Accuracy: 0.95\n"
          ]
        }
      ]
    },
    {
      "cell_type": "markdown",
      "source": [
        "## Soal 2"
      ],
      "metadata": {
        "id": "dMpnjQmnegSB"
      }
    },
    {
      "cell_type": "code",
      "source": [
        "import numpy as np\n",
        "\n",
        "# Dataset\n",
        "dataC = np.array([\n",
        "  ['Murah', 'Dekat', 'Tidak', 'Ya'],\n",
        "  ['Sedang', 'Dekat', 'Tidak', 'Ya'],\n",
        "  ['Mahal', 'Dekat', 'Tidak', 'Ya'],\n",
        "  ['Mahal', 'Jauh', 'Tidak', 'Tidak'],\n",
        "  ['Mahal', 'Sedang', 'Tidak', 'Tidak'],\n",
        "  ['Sedang', 'Jauh', 'Ada', 'Tidak'],\n",
        "  ['Murah', 'Jauh', 'Ada', 'Tidak'],\n",
        "  ['Murah', 'Sedang', 'Tidak', 'Ya'],\n",
        "  ['Mahal', 'Jauh', 'Ada', 'Tidak'],\n",
        "  ['Sedang', 'Sedang', 'Ada', 'Ya' ]\n",
        "])\n",
        "\n",
        "#Hitung probabilitas prior\n",
        "def calculate_prior(dataC):\n",
        "  total = len(dataC)\n",
        "  ya_count = sum(1 for row in dataC if row[-1] == 'Ya')\n",
        "  tidak_count= total-  ya_count\n",
        "  return ya_count / total, tidak_count / total\n",
        "\n",
        "# Hitung probabilitas kondisional untuk fitur kategori\n",
        "def calculate_categorical_prob(dataC, feature_index, value, target_value):\n",
        "  filtered_data =[row for row in dataC if row[-1]==target_value]\n",
        "  count = sum(1 for row in filtered_data if row[feature_index] ==value)\n",
        "  return count / len(filtered_data) if len(filtered_data) > 0 else 0\n",
        "\n",
        "#Klasifikasi Naive Bayes\n",
        "def naive_bayes_predict(datać, harga, jarak, angkutan):\n",
        "  prior_ya, prior_tidak =calculate_prior(dataC)\n",
        "\n",
        "  #Probabilitas kondisional untuk Ya\n",
        "  p_harga_ya = calculate_categorical_prob(dataC, 0, harga, 'Ya')\n",
        "  p_jarak_ya = calculate_categorical_prob(dataC, 1, jarak, 'Ya')\n",
        "  p_angkutan_ya =calculate_categorical_prob(dataC, 2, angkutan, 'Ya')\n",
        "\n",
        "  # Probabilitas kondisional untuk Tidak\n",
        "  p_harga_tidak = calculate_categorical_prob(dataC, 0, harga, 'Tidak')\n",
        "  p_jarak_tidak = calculate_categorical_prob(dataC, 1, jarak, 'Tidak')\n",
        "  p_angkutan_tidak = calculate_categorical_prob(dataC, 2, angkutan, 'Tidak')\n",
        "\n",
        "  #Posterior untuk Ya dan Tidak\n",
        "  p_ya = prior_ya * p_harga_ya * p_angkutan_ya * p_jarak_ya\n",
        "  p_tidak = prior_tidak * p_harga_tidak * p_angkutan_tidak * p_jarak_tidak\n",
        "  return 'Ya' if p_ya > p_tidak else 'Tidak', p_ya, p_tidak\n",
        "\n",
        "# Prediksi untuk harga \"Mahal\", jarak \"Sedang\", dan angkutan \"Ada\"\n",
        "prediction = naive_bayes_predict(dataC, 'Mahal', 'Sedang', 'Ada')\n",
        "prediction\n",
        "\n",
        "# Hitung distribusi Gaussian untuk fitur numerik\n",
        "def calculate_gaussian_prob(x, mean, std):\n",
        "    exponent = exp(-((x - mean) ** 2 / (2 * (std )**2)))\n",
        "    return (1 / (sqrt(2 * pi) * std)) * exponent\n",
        "\n",
        "# Hitung mean dan std dev untuk fitur numerik\n",
        "def calculate_numerical_stats(data, feature_index, target_value):\n",
        "    filtered_data = [row[feature_index] for row in data if row[-1] == target_value]\n",
        "\n",
        "    mean = np.mean(filtered_data)\n",
        "    std = np.std(filtered)\n",
        "    return mean, std\n",
        "\n",
        "\n"
      ],
      "metadata": {
        "id": "9s4VFtvpegVY"
      },
      "execution_count": 23,
      "outputs": []
    },
    {
      "cell_type": "markdown",
      "source": [
        "## Soal 3"
      ],
      "metadata": {
        "id": "THKMFsvxegYw"
      }
    },
    {
      "cell_type": "code",
      "source": [
        "import numpy as np\n",
        "import matplotlib.pyplot as plt\n",
        "from sklearn.svm import SVC\n",
        "from sklearn.preprocessing import StandardScaler\n",
        "\n",
        "# Dataset\n",
        "data = np.array([\n",
        "    [25, 3000, 12, 0],\n",
        "    [34, 4500, 24, 1],\n",
        "    [29, 5000, 36, 0],\n",
        "    [45, 6000, 6, 1],\n",
        "    [32, 5500, 18, 0],\n",
        "    [50, 7000, 48, 0],\n",
        "    [40, 4000, 8, 1],\n",
        "    [28, 3200, 14, 0],\n",
        "    [35, 4800, 30, 1],\n",
        "    [22, 2500, 10, 0]\n",
        "])\n",
        "\n",
        "\n",
        "# Fitur dan label\n",
        "X = data[:, :-1]\n",
        "y = data[:, -1]\n",
        "\n",
        "# Standardisasi fitur\n",
        "scaler = StandardScaler()\n",
        "X_scaled = scaler.fit_transform(X)\n",
        "\n",
        "# Model SVM dengan kernel linear\n",
        "svm_model = SVC(kernel=\"linear\", probability=True)\n",
        "svm_model.fit(X_scaled, y)\n",
        "\n",
        "# Menampilkan hyperplane\n",
        "def plot_hyperplane(X, y, model):\n",
        "    plt.figure(figsize=(10, 6))\n",
        "    for i, label in enumerate(np.unique(y)):\n",
        "        plt.scatter(X[y == label, 0], X[y == label, 1], label=f\"Class {int(label)}\")\n",
        "\n",
        "    # Plot hyperplane\n",
        "    w = model.coef_[0]\n",
        "    b = model.intercept_[0]\n",
        "    x_plot = np.linspace(X[:, 0].min(), X[:, 0].max(), 100)\n",
        "    y_plot = -(w[0] * x_plot + b) / w[1]\n",
        "    plt.plot(x_plot, y_plot, 'k--', label=\"Hyperplane\")\n",
        "    plt.xlabel(\"Feature 1 (Scaled)\")\n",
        "    plt.ylabel(\"Feature 2 (Scaled)\")\n",
        "    plt.legend()\n",
        "    plt.title(\"Hyperplane of Linear SVM\")\n",
        "    plt.grid()\n",
        "    plt.show()\n",
        "\n",
        "# Plotkan hyperplane\n",
        "plot_hyperplane(X_scaled[:, :2], y, svm_model)\n",
        "\n",
        "# Prediksi data baru\n",
        "new_data = np.array([[35, 4700, 23]])\n",
        "new_data_scaled = scaler.transform(new_data)\n",
        "prediction = svm_model.predict(new_data_scaled)\n",
        "print(\"Prediksi churn untuk data baru:\", prediction[0])\n"
      ],
      "metadata": {
        "id": "4eBLnEwUkHiz",
        "outputId": "f55f307b-1ceb-4e88-860d-cac49174fc98",
        "colab": {
          "base_uri": "https://localhost:8080/",
          "height": 581
        }
      },
      "execution_count": 24,
      "outputs": [
        {
          "output_type": "display_data",
          "data": {
            "text/plain": [
              "<Figure size 1000x600 with 1 Axes>"
            ],
            "image/png": "[encoded data removed]"
          },
          "metadata": {}
        },
        {
          "output_type": "stream",
          "name": "stdout",
          "text": [
            "Prediksi churn untuk data baru: 0\n"
          ]
        }
      ]
    },
    {
      "cell_type": "markdown",
      "source": [
        "## Soal 4"
      ],
      "metadata": {
        "id": "eJQhy666egcp"
      }
    },
    {
      "cell_type": "code",
      "source": [
        "import numpy as np\n",
        "\n",
        "# Koordinat titik-titik\n",
        "points = np.array([\n",
        "    [2, 4], [4, 2], [3, 3], [5, 5], [6, 7], [8, 6], [7, 3], [9, 4]\n",
        "])\n",
        "\n",
        "# Kasus 1: Centroid awal (G(2,2), H(3,2))\n",
        "centroids_case1 = np.array([[2, 2], [3, 2]])\n",
        "\n",
        "# Kasus 2: Centroid awal (G(3,3), H(4,3))\n",
        "centroids_case2 = np.array([[3, 3], [4, 3]])\n",
        "\n",
        "def k_means(points, centroids, iterations=1):\n",
        "    for _ in range(iterations):\n",
        "        # Hitung jarak Euclidean ke setiap centroid\n",
        "        distances = np.linalg.norm(points[:, np.newaxis] - centroids, axis=2)\n",
        "\n",
        "        # Kelompokkan berdasarkan jarak terdekat\n",
        "        labels = np.argmin(distances, axis=1)\n",
        "\n",
        "        # Hitung centroid baru\n",
        "        new_centroids = np.array([points[labels == i].mean(axis=0) for i in range(len(centroids))])\n",
        "\n",
        "        # Perbarui centroid\n",
        "        centroids = new_centroids\n",
        "\n",
        "    return centroids, labels\n",
        "\n",
        "# Kasus 1\n",
        "centroids_case1_final, labels_case1 = k_means(points, centroids_case1)\n",
        "print(\"Hasil Kasus 1:\")\n",
        "print(\"Centroid Baru:\", centroids_case1_final)\n",
        "print(\"Kelompok:\", labels_case1)\n",
        "\n",
        "# Kasus 2\n",
        "centroids_case2_final, labels_case2 = k_means(points, centroids_case2)\n",
        "print(\"\\nHasil Kasus 2:\")\n",
        "print(\"Centroid Baru:\", centroids_case2_final)\n",
        "print(\"Kelompok:\", labels_case2)\n"
      ],
      "metadata": {
        "id": "yNdiazyrj-qH",
        "outputId": "2c884d7e-7d68-4af1-b842-83a57d5c6d24",
        "colab": {
          "base_uri": "https://localhost:8080/"
        }
      },
      "execution_count": 15,
      "outputs": [
        {
          "output_type": "stream",
          "name": "stdout",
          "text": [
            "Hasil Kasus 1:\n",
            "Centroid Baru: [[2.         4.        ]\n",
            " [6.         4.28571429]]\n",
            "Kelompok: [0 1 1 1 1 1 1 1]\n",
            "\n",
            "Hasil Kasus 2:\n",
            "Centroid Baru: [[2.5 3.5]\n",
            " [6.5 4.5]]\n",
            "Kelompok: [0 1 0 1 1 1 1 1]\n"
          ]
        }
      ]
    },
    {
      "cell_type": "markdown",
      "source": [
        "## Soal 5"
      ],
      "metadata": {
        "id": "7w9nnrtxhY3o"
      }
    },
    {
      "cell_type": "code",
      "source": [
        "import numpy as np\n",
        "import matplotlib.pyplot as plt\n",
        "from scipy.cluster.hierarchy import dendrogram, linkage\n",
        "\n",
        "# Data yang diberikan\n",
        "data = np.array([\n",
        "    (2, 2), (3, 3), (4, 2), (8, 7), (9, 8), (10, 7), (15, 2), (16, 3), (17, 2)\n",
        "])\n",
        "\n",
        "# Menghitung matriks linkage menggunakan single linkage\n",
        "linked_single = linkage(data, 'single')\n",
        "\n",
        "# Menghitung matriks linkage menggunakan complete linkage\n",
        "linked_complete = linkage(data, 'complete')\n",
        "\n",
        "# Menghitung matriks linkage menggunakan average linkage\n",
        "linked_average = linkage(data, 'average')\n",
        "\n",
        "# Plot dendrogram untuk single linkage\n",
        "plt.figure(figsize=(10, 7))\n",
        "dendrogram(linked_single,\n",
        "           orientation='top',\n",
        "           distance_sort='descending',\n",
        "           show_leaf_counts=True)\n",
        "plt.title('Dendrogram Single Linkage')\n",
        "plt.show()\n",
        "\n",
        "# Plot dendrogram untuk complete linkage\n",
        "plt.figure(figsize=(10, 7))\n",
        "dendrogram(linked_complete,\n",
        "           orientation='top',\n",
        "           distance_sort='descending',\n",
        "           show_leaf_counts=True)\n",
        "plt.title('Dendrogram Complete Linkage')\n",
        "plt.show()\n",
        "\n",
        "# Plot dendrogram untuk average linkage\n",
        "plt.figure(figsize=(10, 7))\n",
        "dendrogram(linked_average,\n",
        "           orientation='top',\n",
        "           distance_sort='descending',\n",
        "           show_leaf_counts=True)\n",
        "plt.title('Dendrogram Average Linkage')\n",
        "plt.show()\n",
        "\n",
        "import numpy as np\n",
        "import matplotlib.pyplot as plt\n",
        "from scipy.cluster.hierarchy import dendrogram, linkage, fcluster\n",
        "\n",
        "# Data yang diberikan\n",
        "data = np.array([\n",
        "    [2, 2], [3, 3], [4, 2],\n",
        "    [8, 7], [9, 8], [10, 7],\n",
        "    [15, 2], [16, 3], [17, 2]\n",
        "])\n",
        "\n",
        "# Fungsi untuk menampilkan dendrogram berdasarkan metode linkage yang berbeda\n",
        "def plot_dendrogram(data, method, title):\n",
        "    Z = linkage(data, method=method, metric='euclidean')\n",
        "    plt.figure(figsize=(8, 5))\n",
        "    dendrogram(Z)\n",
        "    plt.title(f\"Dendrogram - {title}\")\n",
        "    plt.xlabel(\"Data Points\")\n",
        "    plt.ylabel(\"Euclidean Distance\")\n",
        "    plt.show()\n",
        "    return Z\n",
        "\n",
        "# Generate dendrogram untuk masing-masing metode linkage\n",
        "linkage_methods = ['single', 'complete', 'average']\n",
        "dendrogram_titles = [\"Single Linkage\", \"Complete Linkage\", \"Average Linkage\"]\n",
        "Z_single = plot_dendrogram(data, 'single', dendrogram_titles[0])\n",
        "Z_complete = plot_dendrogram(data, 'complete', dendrogram_titles[1])\n",
        "Z_average = plot_dendrogram(data, 'average', dendrogram_titles[2])\n"
      ],
      "metadata": {
        "id": "zjCnrE8bhdOW",
        "outputId": "3742711c-d331-408f-ba73-f02eb1af3b42",
        "colab": {
          "base_uri": "https://localhost:8080/",
          "height": 1000
        }
      },
      "execution_count": 10,
      "outputs": [
        {
          "output_type": "display_data",
          "data": {
            "text/plain": [
              "<Figure size 1000x700 with 1 Axes>"
            ],
            "image/png": "[encoded data removed]"
          },
          "metadata": {}
        },
        {
          "output_type": "display_data",
          "data": {
            "text/plain": [
              "<Figure size 1000x700 with 1 Axes>"
            ],
            "image/png": "[encoded data removed]"
          },
          "metadata": {}
        },
        {
          "output_type": "display_data",
          "data": {
            "text/plain": [
              "<Figure size 1000x700 with 1 Axes>"
            ],
            "image/png": "[encoded data removed]"
          },
          "metadata": {}
        },
        {
          "output_type": "display_data",
          "data": {
            "text/plain": [
              "<Figure size 800x500 with 1 Axes>"
            ],
            "image/png": "[encoded data removed]"
          },
          "metadata": {}
        },
        {
          "output_type": "display_data",
          "data": {
            "text/plain": [
              "<Figure size 800x500 with 1 Axes>"
            ],
            "image/png": "[encoded data removed]"
          },
          "metadata": {}
        },
        {
          "output_type": "display_data",
          "data": {
            "text/plain": [
              "<Figure size 800x500 with 1 Axes>"
            ],
            "image/png": "[encoded data removed]"
          },
          "metadata": {}
        }
      ]
    },
    {
      "cell_type": "code",
      "source": [
        "# Mengimpor pustaka yang diperlukan\n",
        "import numpy as np\n",
        "import matplotlib.pyplot as plt\n",
        "from sklearn.cluster import AgglomerativeClustering\n",
        "\n",
        "# Mendefinisikan ulang data koordinat x dan y\n",
        "data = np.array([\n",
        "    [2, 2], [3, 3], [4, 2],\n",
        "    [8, 7], [9, 8], [10, 7],\n",
        "    [15, 2], [16, 3], [17, 2]\n",
        "])\n",
        "\n",
        "# Extract x and y coordinates from data\n",
        "x = data[:, 0]  # Get the first column (x-coordinates)\n",
        "y = data[:, 1]  # Get the second column (y-coordinates)\n",
        "\n",
        "# Menampilkan data dalam bentuk scatter plot untuk memvisualisasikan titik-titik data\n",
        "plt.scatter(x, y)\n",
        "plt.show()\n",
        "\n",
        "# Melakukan Agglomerative Clustering dengan jumlah kluster 2 dan metode linkage 'complete'\n",
        "# AgglomerativeClustering adalah algoritma hierarchical clustering dari Scikit-learn\n",
        "# Untuk 'complete' linkage, 'affinity' secara default adalah 'euclidean' (tidak perlu diset secara manual)\n",
        "hirearchical_cluster = AgglomerativeClustering(n_clusters=2, linkage='complete')\n",
        "hirearchical_cluster = AgglomerativeClustering(n_clusters=2, linkage='complete')\n",
        "hirearchical_cluster = AgglomerativeClustering(n_clusters=2, linkage='complete')\n",
        "# Melakukan clustering pada data dan mendapatkan label dari setiap titik data\n",
        "labels = hirearchical_cluster.fit_predict(data)\n",
        "print(labels)  # Mencetak label kluster dari setiap titik data\n",
        "\n",
        "# Menampilkan scatter plot dari data dengan pewarnaan berdasarkan label kluster\n",
        "# Titik data akan diberi warna sesuai dengan kluster yang dihasilkan\n",
        "plt.scatter(x, y, c=hirearchical_cluster.labels_) # Use extracted x and y\n",
        "plt.show()\n",
        "\n",
        "\n",
        "## 3\n",
        "\n",
        "!pip install openpyxl\n",
        "import numpy as np\n",
        "import matplotlib.pyplot as plt\n",
        "from sklearn.cluster import AgglomerativeClustering\n",
        "# Import the pandas library and give it an alias of 'pd'\n",
        "import pandas as pd\n",
        "\n",
        "# Read the Excel file using pd.read_excel\n",
        "pd_data = pd.read_excel(\"/content/data.xlsx\")  # Use pd.read_excel for Excel files\n",
        "\n",
        "# Assuming your data is in columns named 'x' and 'y'\n",
        "x = pd_data['x'].values  # Extract x values\n",
        "y = pd_data['y'].values  # Extract y values\n",
        "\n",
        "# Define the data for clustering\n",
        "data = np.array(list(zip(x, y)))  # Combine x and y into a NumPy array\n",
        "\n",
        "# Menampilkan data dalam bentuk scatter plot untuk memvisualisasikan titik-titik data\n",
        "plt.scatter(x, y)\n",
        "plt.show()\n",
        "\n",
        "# Melakukan Agglomerative Clustering dengan jumlah kluster 2 dan metode linkage 'complete'\n",
        "# AgglomerativeClustering adalah algoritma hierarchical clustering dari Scikit-learn\n",
        "# Untuk 'complete' linkage, 'affinity' secara default adalah 'euclidean' (tidak perlu diset secara manual)\n",
        "hirearchical_cluster = AgglomerativeClustering(n_clusters=2, linkage='complete')\n",
        "\n",
        "# Melakukan clustering pada data dan mendapatkan label dari setiap titik data\n",
        "labels = hirearchical_cluster.fit_predict(data)\n",
        "print(labels)  # Mencetak label kluster dari setiap titik data\n",
        "\n",
        "# Menampilkan scatter plot dari data dengan pewarnaan berdasarkan label kluster\n",
        "# Titik data akan diberi warna sesuai dengan kluster yang dihasilkan\n",
        "plt.scatter(x, y, c=hirearchical_cluster.labels_)\n",
        "plt.show()"
      ],
      "metadata": {
        "id": "Xl7v20QIhkie",
        "outputId": "074abc05-af30-4219-c161-336ffeba959e",
        "colab": {
          "base_uri": "https://localhost:8080/",
          "height": 1000
        }
      },
      "execution_count": 16,
      "outputs": [
        {
          "output_type": "display_data",
          "data": {
            "text/plain": [
              "<Figure size 640x480 with 1 Axes>"
            ],
            "image/png": "[encoded data removed]"
          },
          "metadata": {}
        },
        {
          "output_type": "stream",
          "name": "stdout",
          "text": [
            "[0 0 0 0 0 0 1 1 1]\n"
          ]
        },
        {
          "output_type": "display_data",
          "data": {
            "text/plain": [
              "<Figure size 640x480 with 1 Axes>"
            ],
            "image/png": "[encoded data removed]"
          },
          "metadata": {}
        },
        {
          "output_type": "stream",
          "name": "stdout",
          "text": [
            "Requirement already satisfied: openpyxl in /usr/local/lib/python3.10/dist-packages (3.1.5)\n",
            "Requirement already satisfied: et-xmlfile in /usr/local/lib/python3.10/dist-packages (from openpyxl) (2.0.0)\n"
          ]
        },
        {
          "output_type": "error",
          "ename": "FileNotFoundError",
          "evalue": "[Errno 2] No such file or directory: '/content/data.xlsx'",
          "traceback": [
            "\u001b[0;31m---------------------------------------------------------------------------\u001b[0m",
            "\u001b[0;31mFileNotFoundError\u001b[0m                         Traceback (most recent call last)",
            "\u001b[0;32m<ipython-input-16-bf378030fc1a>\u001b[0m in \u001b[0;36m<cell line: 47>\u001b[0;34m()\u001b[0m\n\u001b[1;32m     45\u001b[0m \u001b[0;34m\u001b[0m\u001b[0m\n\u001b[1;32m     46\u001b[0m \u001b[0;31m# Read the Excel file using pd.read_excel\u001b[0m\u001b[0;34m\u001b[0m\u001b[0;34m\u001b[0m\u001b[0m\n\u001b[0;32m---> 47\u001b[0;31m \u001b[0mpd_data\u001b[0m \u001b[0;34m=\u001b[0m \u001b[0mpd\u001b[0m\u001b[0;34m.\u001b[0m\u001b[0mread_excel\u001b[0m\u001b[0;34m(\u001b[0m\u001b[0;34m\"/content/data.xlsx\"\u001b[0m\u001b[0;34m)\u001b[0m  \u001b[0;31m# Use pd.read_excel for Excel files\u001b[0m\u001b[0;34m\u001b[0m\u001b[0;34m\u001b[0m\u001b[0m\n\u001b[0m\u001b[1;32m     48\u001b[0m \u001b[0;34m\u001b[0m\u001b[0m\n\u001b[1;32m     49\u001b[0m \u001b[0;31m# Assuming your data is in columns named 'x' and 'y'\u001b[0m\u001b[0;34m\u001b[0m\u001b[0;34m\u001b[0m\u001b[0m\n",
            "\u001b[0;32m/usr/local/lib/python3.10/dist-packages/pandas/io/excel/_base.py\u001b[0m in \u001b[0;36mread_excel\u001b[0;34m(io, sheet_name, header, names, index_col, usecols, dtype, engine, converters, true_values, false_values, skiprows, nrows, na_values, keep_default_na, na_filter, verbose, parse_dates, date_parser, date_format, thousands, decimal, comment, skipfooter, storage_options, dtype_backend, engine_kwargs)\u001b[0m\n\u001b[1;32m    493\u001b[0m     \u001b[0;32mif\u001b[0m \u001b[0;32mnot\u001b[0m \u001b[0misinstance\u001b[0m\u001b[0;34m(\u001b[0m\u001b[0mio\u001b[0m\u001b[0;34m,\u001b[0m \u001b[0mExcelFile\u001b[0m\u001b[0;34m)\u001b[0m\u001b[0;34m:\u001b[0m\u001b[0;34m\u001b[0m\u001b[0;34m\u001b[0m\u001b[0m\n\u001b[1;32m    494\u001b[0m         \u001b[0mshould_close\u001b[0m \u001b[0;34m=\u001b[0m \u001b[0;32mTrue\u001b[0m\u001b[0;34m\u001b[0m\u001b[0;34m\u001b[0m\u001b[0m\n\u001b[0;32m--> 495\u001b[0;31m         io = ExcelFile(\n\u001b[0m\u001b[1;32m    496\u001b[0m             \u001b[0mio\u001b[0m\u001b[0;34m,\u001b[0m\u001b[0;34m\u001b[0m\u001b[0;34m\u001b[0m\u001b[0m\n\u001b[1;32m    497\u001b[0m             \u001b[0mstorage_options\u001b[0m\u001b[0;34m=\u001b[0m\u001b[0mstorage_options\u001b[0m\u001b[0;34m,\u001b[0m\u001b[0;34m\u001b[0m\u001b[0;34m\u001b[0m\u001b[0m\n",
            "\u001b[0;32m/usr/local/lib/python3.10/dist-packages/pandas/io/excel/_base.py\u001b[0m in \u001b[0;36m__init__\u001b[0;34m(self, path_or_buffer, engine, storage_options, engine_kwargs)\u001b[0m\n\u001b[1;32m   1548\u001b[0m                 \u001b[0mext\u001b[0m \u001b[0;34m=\u001b[0m \u001b[0;34m\"xls\"\u001b[0m\u001b[0;34m\u001b[0m\u001b[0;34m\u001b[0m\u001b[0m\n\u001b[1;32m   1549\u001b[0m             \u001b[0;32melse\u001b[0m\u001b[0;34m:\u001b[0m\u001b[0;34m\u001b[0m\u001b[0;34m\u001b[0m\u001b[0m\n\u001b[0;32m-> 1550\u001b[0;31m                 ext = inspect_excel_format(\n\u001b[0m\u001b[1;32m   1551\u001b[0m                     \u001b[0mcontent_or_path\u001b[0m\u001b[0;34m=\u001b[0m\u001b[0mpath_or_buffer\u001b[0m\u001b[0;34m,\u001b[0m \u001b[0mstorage_options\u001b[0m\u001b[0;34m=\u001b[0m\u001b[0mstorage_options\u001b[0m\u001b[0;34m\u001b[0m\u001b[0;34m\u001b[0m\u001b[0m\n\u001b[1;32m   1552\u001b[0m                 )\n",
            "\u001b[0;32m/usr/local/lib/python3.10/dist-packages/pandas/io/excel/_base.py\u001b[0m in \u001b[0;36minspect_excel_format\u001b[0;34m(content_or_path, storage_options)\u001b[0m\n\u001b[1;32m   1400\u001b[0m         \u001b[0mcontent_or_path\u001b[0m \u001b[0;34m=\u001b[0m \u001b[0mBytesIO\u001b[0m\u001b[0;34m(\u001b[0m\u001b[0mcontent_or_path\u001b[0m\u001b[0;34m)\u001b[0m\u001b[0;34m\u001b[0m\u001b[0;34m\u001b[0m\u001b[0m\n\u001b[1;32m   1401\u001b[0m \u001b[0;34m\u001b[0m\u001b[0m\n\u001b[0;32m-> 1402\u001b[0;31m     with get_handle(\n\u001b[0m\u001b[1;32m   1403\u001b[0m         \u001b[0mcontent_or_path\u001b[0m\u001b[0;34m,\u001b[0m \u001b[0;34m\"rb\"\u001b[0m\u001b[0;34m,\u001b[0m \u001b[0mstorage_options\u001b[0m\u001b[0;34m=\u001b[0m\u001b[0mstorage_options\u001b[0m\u001b[0;34m,\u001b[0m \u001b[0mis_text\u001b[0m\u001b[0;34m=\u001b[0m\u001b[0;32mFalse\u001b[0m\u001b[0;34m\u001b[0m\u001b[0;34m\u001b[0m\u001b[0m\n\u001b[1;32m   1404\u001b[0m     ) as handle:\n",
            "\u001b[0;32m/usr/local/lib/python3.10/dist-packages/pandas/io/common.py\u001b[0m in \u001b[0;36mget_handle\u001b[0;34m(path_or_buf, mode, encoding, compression, memory_map, is_text, errors, storage_options)\u001b[0m\n\u001b[1;32m    880\u001b[0m         \u001b[0;32melse\u001b[0m\u001b[0;34m:\u001b[0m\u001b[0;34m\u001b[0m\u001b[0;34m\u001b[0m\u001b[0m\n\u001b[1;32m    881\u001b[0m             \u001b[0;31m# Binary mode\u001b[0m\u001b[0;34m\u001b[0m\u001b[0;34m\u001b[0m\u001b[0m\n\u001b[0;32m--> 882\u001b[0;31m             \u001b[0mhandle\u001b[0m \u001b[0;34m=\u001b[0m \u001b[0mopen\u001b[0m\u001b[0;34m(\u001b[0m\u001b[0mhandle\u001b[0m\u001b[0;34m,\u001b[0m \u001b[0mioargs\u001b[0m\u001b[0;34m.\u001b[0m\u001b[0mmode\u001b[0m\u001b[0;34m)\u001b[0m\u001b[0;34m\u001b[0m\u001b[0;34m\u001b[0m\u001b[0m\n\u001b[0m\u001b[1;32m    883\u001b[0m         \u001b[0mhandles\u001b[0m\u001b[0;34m.\u001b[0m\u001b[0mappend\u001b[0m\u001b[0;34m(\u001b[0m\u001b[0mhandle\u001b[0m\u001b[0;34m)\u001b[0m\u001b[0;34m\u001b[0m\u001b[0;34m\u001b[0m\u001b[0m\n\u001b[1;32m    884\u001b[0m \u001b[0;34m\u001b[0m\u001b[0m\n",
            "\u001b[0;31mFileNotFoundError\u001b[0m: [Errno 2] No such file or directory: '/content/data.xlsx'"
          ]
        }
      ]
    },
    {
      "cell_type": "markdown",
      "source": [
        "## Soal 6\n"
      ],
      "metadata": {
        "id": "G7_9K4DVeggB"
      }
    },
    {
      "cell_type": "code",
      "source": [
        "# 1) Import pustaka atau library yang akan digunakan\n",
        "import numpy as np  # Mengimpor library NumPy untuk operasi numerik\n",
        "\n",
        "# 2) Masukkan dataset yang akan digunakan.\n",
        "data = np.array([\n",
        "    [2.5, 2.4, 3.5, 3.6],\n",
        "    [0.5, 0.7, 1.2, 1.3],\n",
        "    [2.2, 2.9, 3.0, 3.4],\n",
        "    [1.9, 2.2, 2.5, 2.7],\n",
        "    [3.1, 3.6, 4.1, 4.0],\n",
        "    [2.3, 2.7, 3.1, 3.0],\n",
        "    [2.0, 1.6, 2.3, 2.4],\n",
        "    [1.0, 1.1, 1.5, 1.6],\n",
        "    [1.5, 1.6, 2.0, 2.1],\n",
        "    [1.1, 0.9, 1.3, 1.4]\n",
        "])  # Membuat array NumPy untuk menyimpan data\n",
        "\n",
        "# 3) Lakukan standarisasi data.\n",
        "mean = np.mean(data, axis=0)  # Menghitung rata-rata (mean) dari setiap kolom\n",
        "std_dev = np.std(data, axis=0)  # Menghitung standar deviasi dari setiap kolom\n",
        "Z = (data - mean) / std_dev  # Melakukan standarisasi data (Z-score normalization)\n",
        "\n",
        "# 4) Hitung matriks kovarian dari Z.\n",
        "cov_matrix = np.cov(Z, rowvar=False)  # Menghitung matriks kovarian dari data yang telah distandarisasi\n",
        "\n",
        "# 5) Hitung nilai eigen dan vektor eigen dari matriks kovarian cov_matrix\n",
        "eigenvalues, eigenvectors = np.linalg.eig(cov_matrix)  # Menghitung nilai eigen dan vektor eigen\n",
        "\n",
        "# 6) Hitung proporsi variansi dari nilai eigen\n",
        "total_variance = np.sum(eigenvalues)  # Menghitung total variansi dari semua nilai eigen\n",
        "explained_variance_ratio = eigenvalues / total_variance  # Menghitung proporsi variansi yang dijelaskan oleh setiap PC\n",
        "\n",
        "# 7) Hitung kontribusi variansi dari nilai eigen\n",
        "cumulative_variance = np.cumsum(explained_variance_ratio)  # Menghitung variansi kumulatif\n",
        "\n",
        "# Tampilkan hasil\n",
        "print(\"Nilai Eigen:\", eigenvalues)\n",
        "print(\"Proporsi Variansi dari setiap komponen:\", explained_variance_ratio)\n",
        "print(\"Kontribusi Variansi Kumulatif:\", cumulative_variance)\n",
        "\n",
        "# 8) Tentukan ambang batas atau threshold dalam pemilihan nilai eigen\n",
        "# Biasanya diatas 70%\n",
        "threshold = 0.90  # Menetapkan ambang batas (threshold) untuk pemilihan PC\n",
        "n_components = np.argmax(cumulative_variance >= threshold) + 1  # Menentukan jumlah PC berdasarkan threshold\n",
        "print(n_components)  # Menampilkan jumlah komponen\n",
        "\n",
        "# 9) Urutkan nilai dan vektor eigen\n",
        "sorted_indices = np.argsort(eigenvalues)[::-1]  # Mengurutkan indeks nilai eigen dari yang terbesar\n",
        "sorted_eigenvalues = eigenvalues[sorted_indices]  # Mengurutkan nilai eigen\n",
        "sorted_eigenvectors = eigenvectors[:, sorted_indices]  # Mengurutkan vektor eigen\n",
        "\n",
        "# 10) Ambil komponen sesuai n_components sebelumnya.\n",
        "n_components = 1  # Menetapkan jumlah komponen utama yang akan digunakan\n",
        "W = sorted_eigenvectors[:, :n_components]  # Mengambil vektor eigen yang sesuai\n",
        "\n",
        "# 11) Lakukan transformasi data\n",
        "Y = Z @ W  # Melakukan transformasi data dengan mengalikan data standar (Z) dengan matriks vektor eigen (W)\n",
        "\n",
        "# 12) Tampilkan hasil reduksi data PCA\n",
        "print(\"Data setelah PCA:\")  # Menampilkan judul output\n",
        "print(Y)  # Menampilkan data yang telah direduksi dimensinya"
      ],
      "metadata": {
        "id": "OQkZMCaCgPK9",
        "outputId": "b4bbc5ed-cc96-4abb-b61e-bdf25895b491",
        "colab": {
          "base_uri": "https://localhost:8080/"
        }
      },
      "execution_count": 9,
      "outputs": [
        {
          "output_type": "stream",
          "name": "stdout",
          "text": [
            "Nilai Eigen: [4.33318943 0.06538576 0.0358081  0.01006116]\n",
            "Proporsi Variansi dari setiap komponen: [0.97496762 0.0147118  0.00805682 0.00226376]\n",
            "Kontribusi Variansi Kumulatif: [0.97496762 0.98967942 0.99773624 1.        ]\n",
            "1\n",
            "Data setelah PCA:\n",
            "[[-1.85364122]\n",
            " [ 2.95159575]\n",
            " [-1.54579331]\n",
            " [-0.29769242]\n",
            " [-3.46574526]\n",
            " [-1.33423136]\n",
            " [ 0.24222221]\n",
            " [ 2.066633  ]\n",
            " [ 0.90644968]\n",
            " [ 2.33020293]]\n"
          ]
        }
      ]
    },
    {
      "cell_type": "code",
      "source": [
        "# 1) Import pustaka atau library yang akan digunakan\n",
        "import numpy as np  # Mengimpor library NumPy untuk operasi numerik\n",
        "\n",
        "# 2) Masukkan data yang akan direduksi\n",
        "X = np.array([\n",
        "    [2.5, 2.4, 3.5, 3.6],\n",
        "    [0.5, 0.7, 1.2, 1.3],\n",
        "    [2.2, 2.9, 3.0, 3.4],\n",
        "    [1.9, 2.2, 2.5, 2.7],\n",
        "    [3.1, 3.6, 4.1, 4.0],\n",
        "    [2.3, 2.7, 3.1, 3.0],\n",
        "    [2.0, 1.6, 2.3, 2.4],\n",
        "    [1.0, 1.1, 1.5, 1.6],\n",
        "    [1.5, 1.6, 2.0, 2.1],\n",
        "    [1.1, 0.9, 1.3, 1.4]\n",
        "])  # Membuat array NumPy untuk menyimpan data\n",
        "\n",
        "# 3) Lakukan standarisasi data menggunakan StandardScaler dari library sklearn\n",
        "from sklearn.preprocessing import StandardScaler  # Mengimpor StandardScaler dari sklearn.preprocessing\n",
        "scaler = StandardScaler()  # Membuat objek StandardScaler\n",
        "X_scaled = scaler.fit_transform(X)  # Melakukan standarisasi data\n",
        "\n",
        "# 4) Lakukan reduksi dimensi menggunakan PCA dari library sklearn\n",
        "from sklearn.decomposition import PCA  # Mengimpor PCA dari sklearn.decomposition\n",
        "pca = PCA(n_components=1)  # Membuat objek PCA dengan 1 komponen utama\n",
        "X_pca = pca.fit_transform(X_scaled)  # Melakukan reduksi dimensi\n",
        "\n",
        "# 5) Tampilkan hasil reduksi PCA menggunakan sklearn\n",
        "print(\"Data setelah PCA:\")  # Menampilkan judul output\n",
        "print(X_pca)  # Menampilkan data yang telah direduksi dimensinya"
      ],
      "metadata": {
        "id": "lZxMiyDvgPPZ",
        "outputId": "ada8750a-0a7d-4408-8547-9d864ec9debd",
        "colab": {
          "base_uri": "https://localhost:8080/"
        }
      },
      "execution_count": 8,
      "outputs": [
        {
          "output_type": "stream",
          "name": "stdout",
          "text": [
            "Data setelah PCA:\n",
            "[[ 1.85364122]\n",
            " [-2.95159575]\n",
            " [ 1.54579331]\n",
            " [ 0.29769242]\n",
            " [ 3.46574526]\n",
            " [ 1.33423136]\n",
            " [-0.24222221]\n",
            " [-2.066633  ]\n",
            " [-0.90644968]\n",
            " [-2.33020293]]\n"
          ]
        }
      ]
    },
    {
      "cell_type": "markdown",
      "source": [
        "## Soal 7"
      ],
      "metadata": {
        "id": "p98PqFKfegis"
      }
    },
    {
      "cell_type": "code",
      "source": [
        "import numpy as np  # Mengimpor pustaka numpy, yang menyediakan fungsi matematika tingkat lanjut untuk array dan matriks\n",
        "import pandas as pd  # Mengimpor pustaka pandas, yang berguna untuk mengelola dan memproses data dalam bentuk tabel\n",
        "from sklearn.discriminant_analysis import LinearDiscriminantAnalysis\n",
        "\n",
        "# a) Tentukan mean (rata-rata) dari masing-masing kelas A dan B untuk setiap fitur x1 dan x2\n",
        "\n",
        "# Data yang diberikan untuk soal Andi\n",
        "data = {\n",
        "    'x1': [3, -1, 2, -2, 1, 5, 6, -3, 0, 4, -4, 2],  # Nilai fitur x1 untuk masing-masing data\n",
        "    'x2': [1, -2, 3, -1, 0, 2, -3, 3, -2, 1, 4, -1],  # Nilai fitur x2 untuk masing-masing data\n",
        "    'class': ['A', 'A', 'A', 'A', 'B', 'B', 'B', 'B', 'A', 'A', 'B', 'B']  # Label kelas masing-masing data (A atau B)\n",
        "}\n",
        "\n",
        "# Mengonversi data menjadi DataFrame\n",
        "df = pd.DataFrame(data)  # DataFrame adalah struktur data yang mirip dengan tabel, memudahkan manipulasi data\n",
        "\n",
        "# Memisahkan data berdasarkan kelas\n",
        "class_A = df[df['class'] == 'A'][['x1', 'x2']]  # Mengambil semua data yang termasuk dalam kelas A\n",
        "class_B = df[df['class'] == 'B'][['x1', 'x2']]  # Mengambil semua data yang termasuk dalam kelas B\n",
        "\n",
        "# Menghitung vektor mean untuk setiap kelas\n",
        "mean_A = class_A.mean().values  # Menghitung rata-rata fitur x1 dan x2 untuk kelas A\n",
        "mean_B = class_B.mean().values  # Menghitung rata-rata fitur x1 dan x2 untuk kelas B\n",
        "\n",
        "# Menampilkan hasil mean untuk setiap kelas\n",
        "print(\"Mean vector for Class A:\", mean_A)  # Menampilkan vektor mean untuk kelas A\n",
        "print(\"Mean vector for Class B:\", mean_B)  # Menampilkan vektor mean untuk kelas B\n",
        "\n",
        "# b) Hitung Matriks Scatter Dalam Kelas (Within-Class Scatter Matrix) Swberdasarkan data di atas.\n",
        "\n",
        "# Inisialisasi matriks scatter dalam kelas sebagai matriks nol`\n",
        "Sw = np.zeros((2, 2))  # Matriks 2x2 karena kita memiliki dua fitur (x1 dan x2)\n",
        "\n",
        "# Menghitung scatter dalam kelas untuk setiap titik data di kelas A\n",
        "for i in range(len(class_A)):\n",
        "    xi = class_A.iloc[i].values.reshape(2, 1)  # Mengubah data menjadi vektor kolom\n",
        "    mean_A_vec = mean_A.reshape(2, 1)  # Mengubah mean kelas A menjadi vektor kolom\n",
        "    Sw += (xi - mean_A_vec).dot((xi - mean_A_vec).T)  # Menambahkan hasil perhitungan ke Sw\n",
        "\n",
        "# Menghitung scatter dalam kelas untuk setiap titik data di kelas B\n",
        "for i in range(len(class_B)):\n",
        "    xi = class_B.iloc[i].values.reshape(2, 1)  # Mengubah data menjadi vektor kolom\n",
        "    mean_B_vec = mean_B.reshape(2, 1)  # Mengubah mean kelas B menjadi vektor kolom\n",
        "    Sw += (xi - mean_B_vec).dot((xi - mean_B_vec).T)  # Menambahkan hasil perhitungan ke Sw\n",
        "\n",
        "print(\"Within-Class Scatter Matrix (Sw):\\n\", Sw)\n",
        "\n",
        "# C. Hitung Matriks Scatter Antar Kelas (Between-Class Scatter Matrix) Sb dari data tersebut.\n",
        "\n",
        "# Menghitung mean keseluruhan dari kedua kelas\n",
        "mean_total = df[['x1', 'x2']].mean().values  # Rata-rata keseluruhan dari x1 dan x2\n",
        "\n",
        "# Mengubah mean keseluruhan dan mean masing-masing kelas menjadi vektor kolom\n",
        "mean_A_vec = mean_A.reshape(2, 1)\n",
        "mean_B_vec = mean_B.reshape(2, 1)\n",
        "mean_total_vec = mean_total.reshape(2, 1)\n",
        "\n",
        "# Menghitung jumlah sampel dalam kelas A dan kelas B\n",
        "N_A = class_A.shape[0]  # Jumlah sampel di kelas A\n",
        "N_B = class_B.shape[0]  # Jumlah sampel di kelas B\n",
        "\n",
        "# Menghitung scatter antar kelas (Between-Class Scatter Matrix) Sb\n",
        "Sb = N_A * (mean_A_vec - mean_total_vec).dot((mean_A_vec - mean_total_vec).T) + \\\n",
        "     N_B * (mean_B_vec - mean_total_vec).dot((mean_B_vec - mean_total_vec).T)\n",
        "\n",
        "print(\"Between-Class Scatter Matrix (Sb):\\n\", Sb)\n",
        "\n",
        "# D. Jelaskan bagaimana Andi bisa menggunakan hasil perhitungan dari Swdan Sb untuk menemukan vektor proyeksi yang memisahkan kelas A dan B secara maksimal.\n",
        "\n",
        "# Menghitung vektor proyeksi optimal\n",
        "w = np.linalg.inv(Sw).dot(mean_A - mean_B)  # Menggunakan invers dari Sw dan mengalikan dengan selisih mean\n",
        "\n",
        "print(\"Vektor proyeksi optimal (w):\", w )\n",
        "\n",
        "# E. Apakah data tersebut bisa langsung diimplementasikan menggunakan LDA dengan Scikit-Learn?\n",
        "\n",
        "# Mendefinisikan fitur (x1, x2) dan label kelas\n",
        "X = df[['x1', 'x2']]  # Fitur (data x1 dan x2)\n",
        "y = df['class']  # Label kelas\n",
        "\n",
        "# Menginisialisasi dan melatih model LDA\n",
        "lda = LinearDiscriminantAnalysis()  # Membuat instance model LDA\n",
        "lda.fit(X, y)  # Melatih model LDA dengan data X dan y\n",
        "\n",
        "# Menampilkan koefisien LDA yang memisahkan kelas\n",
        "print(\"Koefisien LDA dari Scikit-Learn:\", lda.coef_)\n",
        "\n",
        "# Proyeksi data ke ruang dimensi yang lebih rendah\n",
        "projected_data = np.dot(df[['x1', 'x2']], w.T)\n",
        "\n",
        "# Membuat DataFrame baru untuk data yang telah diproyeksi\n",
        "df_projected = pd.DataFrame(projected_data, columns=['projected_value'])\n",
        "\n",
        "print(\"Data setelah reduksi dimensi:\\n\", df_projected)\n",
        "\n",
        "\n"
      ],
      "metadata": {
        "id": "BFNK6nhgejro",
        "outputId": "2094bae7-70d7-4087-b31e-52654874c03f",
        "colab": {
          "base_uri": "https://localhost:8080/"
        }
      },
      "execution_count": 7,
      "outputs": [
        {
          "output_type": "stream",
          "name": "stdout",
          "text": [
            "Mean vector for Class A: [1. 0.]\n",
            "Mean vector for Class B: [1.16666667 0.83333333]\n",
            "Within-Class Scatter Matrix (Sw):\n",
            " [[110.83333333 -23.83333333]\n",
            " [-23.83333333  54.83333333]]\n",
            "Between-Class Scatter Matrix (Sb):\n",
            " [[0.08333333 0.41666667]\n",
            " [0.41666667 2.08333333]]\n",
            "Vektor proyeksi optimal (w): [-0.00526379 -0.01748548]\n",
            "Koefisien LDA dari Scikit-Learn: [[0.05263795 0.17485479]]\n",
            "Data setelah reduksi dimensi:\n",
            "     projected_value\n",
            "0         -0.033277\n",
            "1          0.040235\n",
            "2         -0.062984\n",
            "3          0.028013\n",
            "4         -0.005264\n",
            "5         -0.061290\n",
            "6          0.020874\n",
            "7         -0.036665\n",
            "8          0.034971\n",
            "9         -0.038541\n",
            "10        -0.048887\n",
            "11         0.006958\n"
          ]
        }
      ]
    },
    {
      "cell_type": "code",
      "source": [
        "# Mengimpor pustaka yang dibutuhkan\n",
        "import numpy as np\n",
        "import pandas as pd\n",
        "\n",
        "# Data yang diberikan\n",
        "data = {\n",
        "    'x1': [1, 2, 3, 5, 2, 4, 1, 3, 4, 5],\n",
        "    'x2': [3, 2, 4, 1, 3, 3, 2, 2, 1, 4],\n",
        "    'class': ['X', 'X', 'X', 'X', 'Y', 'Y', 'Y', 'Y', 'Y', 'X']\n",
        "}\n",
        "\n",
        "# Membuat DataFrame dari data yang diberikan\n",
        "df = pd.DataFrame(data)\n",
        "\n",
        "# Memisahkan data berdasarkan kelas (jenis bunga) X dan Y\n",
        "class_X = df[df['class'] == 'X'][['x1', 'x2']]\n",
        "class_Y = df[df['class'] == 'Y'][['x1', 'x2']]\n",
        "\n",
        "# a) Menghitung mean (rata-rata) dari masing-masing kelas untuk setiap fitur x1 dan x2\n",
        "mean_X = class_X.mean().values  # Mean dari kelas X\n",
        "mean_Y = class_Y.mean().values  # Mean dari kelas Y\n",
        "\n",
        "print(\"Mean vector untuk Kelas X:\", mean_X)\n",
        "print(\"Mean vector untuk Kelas Y:\", mean_Y)\n",
        "\n",
        "# b) Menghitung Matriks Scatter Dalam Kelas (Sw)\n",
        "Sw = np.zeros((2, 2))  # Inisialisasi matriks scatter dalam kelas dengan matriks nol\n",
        "\n",
        "# Menghitung scatter dalam kelas untuk kelas X\n",
        "for i in range(len(class_X)):\n",
        "    xi = class_X.iloc[i].values.reshape(2, 1)  # Mengambil sampel xi sebagai vektor kolom\n",
        "    mean_X_vec = mean_X.reshape(2, 1)  # Membuat mean kelas X sebagai vektor kolom\n",
        "    Sw += (xi - mean_X_vec).dot((xi - mean_X_vec).T)  # Menambahkan hasil perkalian ke Sw\n",
        "\n",
        "# Menghitung scatter dalam kelas untuk kelas Y\n",
        "for i in range(len(class_Y)):\n",
        "    xi = class_Y.iloc[i].values.reshape(2, 1)  # Mengambil sampel xi sebagai vektor kolom\n",
        "    mean_Y_vec = mean_Y.reshape(2, 1)  # Membuat mean kelas Y sebagai vektor kolom\n",
        "    Sw += (xi - mean_Y_vec).dot((xi - mean_Y_vec).T)  # Menambahkan hasil perkalian ke Sw\n",
        "\n",
        "print(\"Within-Class Scatter Matrix (Sw):\\n\", Sw)\n",
        "\n",
        "# c) Menghitung Matriks Scatter Antar Kelas (Sb)\n",
        "mean_total = df[['x1', 'x2']].mean().values  # Mean keseluruhan dari x1 dan x2\n",
        "mean_X_vec = mean_X.reshape(2, 1)  # Mean kelas X sebagai vektor kolom\n",
        "mean_Y_vec = mean_Y.reshape(2, 1)  # Mean kelas Y sebagai vektor kolom\n",
        "mean_total_vec = mean_total.reshape(2, 1)  # Mean total sebagai vektor kolom\n",
        "N_X = class_X.shape[0]  # Jumlah sampel di kelas X\n",
        "N_Y = class_Y.shape[0]  # Jumlah sampel di kelas Y\n",
        "\n",
        "# Scatter antar kelas\n",
        "Sb = N_X * (mean_X_vec - mean_total_vec).dot((mean_X_vec - mean_total_vec).T) + \\\n",
        "     N_Y * (mean_Y_vec - mean_total_vec).dot((mean_Y_vec - mean_total_vec).T)\n",
        "\n",
        "print(\"Between-Class Scatter Matrix (Sb):\\n\", Sb)\n",
        "\n",
        "# d) Menentukan Vektor Proyeksi Optimal\n",
        "w = np.linalg.inv(Sw).dot(mean_X - mean_Y)  # Menghitung vektor proyeksi optimal (w)\n",
        "print(\"Vektor proyeksi optimal (w):\", w)\n",
        "\n",
        "\n",
        "\n",
        "# Proyeksi data ke ruang dimensi yang lebih rendah\n",
        "projected_data = np.dot(df[['x1', 'x2']], w.T)\n",
        "\n",
        "# Membuat DataFrame baru untuk data yang telah diproyeksi\n",
        "df_projected = pd.DataFrame(projected_data, columns=['projected_value'])\n",
        "\n",
        "print(\"Data setelah reduksi dimensi:\\n\", df_projected)\n"
      ],
      "metadata": {
        "id": "vZpt4D8-gFAp",
        "outputId": "ae9ef1b2-9960-4850-9e37-cccd30608237",
        "colab": {
          "base_uri": "https://localhost:8080/"
        }
      },
      "execution_count": 6,
      "outputs": [
        {
          "output_type": "stream",
          "name": "stdout",
          "text": [
            "Mean vector untuk Kelas X: [3.2 2.8]\n",
            "Mean vector untuk Kelas Y: [2.8 2.2]\n",
            "Within-Class Scatter Matrix (Sw):\n",
            " [[19.6 -1.6]\n",
            " [-1.6  9.6]]\n",
            "Between-Class Scatter Matrix (Sb):\n",
            " [[0.4 0.6]\n",
            " [0.6 0.9]]\n",
            "Vektor proyeksi optimal (w): [0.02586207 0.06681034]\n",
            "Data setelah reduksi dimensi:\n",
            "    projected_value\n",
            "0         0.226293\n",
            "1         0.185345\n",
            "2         0.344828\n",
            "3         0.196121\n",
            "4         0.252155\n",
            "5         0.303879\n",
            "6         0.159483\n",
            "7         0.211207\n",
            "8         0.170259\n",
            "9         0.396552\n"
          ]
        }
      ]
    },
    {
      "cell_type": "markdown",
      "source": [
        "## Soal 8"
      ],
      "metadata": {
        "id": "Hz_YA4TJbE-c"
      }
    },
    {
      "cell_type": "code",
      "source": [
        "import numpy as np\n",
        "from sklearn.model_selection import train_test_split\n",
        "from sklearn.linear_model import LinearRegression\n",
        "from sklearn.metrics import mean_squared_error\n",
        "from sklearn.ensemble import BaggingRegressor\n",
        "\n",
        "# Regresi\n",
        "X = np.array([1,2,3,4,5,6,7,8,9,10,11,12])\n",
        "X = X.reshape(-1,1)\n",
        "Y = np.array([2.5, 3.7, 4.8, 5.9, 6.2, 7.4, 8.5, 9.6, 10.7, 11.8, 12.9, 14]) # Added a value to Y so it has the same length as X\n",
        "\n",
        "# Now X and Y have the same number of samples, train_test_split should work correctly\n",
        "X_train, X_test, Y_train, Y_test = train_test_split(X, Y, test_size=0.25, random_state=42)\n",
        "\n",
        "be = LinearRegression()\n",
        "model = BaggingRegressor(be, n_estimators=10, random_state=42)\n",
        "model.fit(X_train, Y_train)\n",
        "\n",
        "Y_pred = model.predict(X_test)\n",
        "mse = mean_squared_error(Y_test, Y_pred)\n",
        "print(\"MSE for Bagging Regressor (Linear Regression):\", mse)\n",
        "\n",
        "print(\"Data tiap model bootstrap:\")\n",
        "for i, samples in enumerate(model.estimators_samples_, start=1):\n",
        "    print(f\"Data model {i} = {X_train[samples].flatten()}\")\n",
        "\n",
        "print(\"Akurasi tiap model:\")\n",
        "for i, estimator in enumerate(model.estimators_, start=1):\n",
        "  y_pred = estimator.predict(X_test)\n",
        "  mse = mean_squared_error(Y_test, y_pred)\n",
        "  print(f\"Model {i} = {mse:.4f}\")"
      ],
      "metadata": {
        "colab": {
          "base_uri": "https://localhost:8080/"
        },
        "id": "y5ulypDTbZrh",
        "outputId": "e394fee2-c950-4fc2-a8c3-af8c01c02888"
      },
      "execution_count": 3,
      "outputs": [
        {
          "output_type": "stream",
          "name": "stdout",
          "text": [
            "MSE for Bagging Regressor (Linear Regression): 0.10325684374812753\n",
            "Data tiap model bootstrap:\n",
            "Data model 1 = [ 3  4  4  7  2  3  7 12  8]\n",
            "Data model 2 = [4 2 4 2 5 2 9 2 7]\n",
            "Data model 3 = [8 9 4 4 7 5 7 3 5]\n",
            "Data model 4 = [ 9  5  4 12  6  2  8  3  5]\n",
            "Data model 5 = [8 8 2 2 7 2 4 7 8]\n",
            "Data model 6 = [5 3 6 3 4 2 6 2 8]\n",
            "Data model 7 = [2 3 6 5 3 2 6 5 5]\n",
            "Data model 8 = [ 8  3  7  3  5  9 12  2  5]\n",
            "Data model 9 = [ 7 12 12  2  3  2  8  7  2]\n",
            "Data model 10 = [7 6 7 9 4 8 7 6 6]\n",
            "Akurasi tiap model:\n",
            "Model 1 = 0.0294\n",
            "Model 2 = 0.0875\n",
            "Model 3 = 0.1207\n",
            "Model 4 = 0.0126\n",
            "Model 5 = 0.1079\n",
            "Model 6 = 0.2826\n",
            "Model 7 = 0.9931\n",
            "Model 8 = 0.0150\n",
            "Model 9 = 0.0070\n",
            "Model 10 = 0.0997\n"
          ]
        }
      ]
    },
    {
      "cell_type": "code",
      "source": [
        "# Klasifikasi\n",
        "X = np.array([1,2,3,4,5,6,7,8,9,10,11,12])\n",
        "X = X.reshape(-1,1)\n",
        "Y = np.array([0,1,0,1,0,1,0,1,0,1,0,1])\n",
        "\n",
        "X_train, X_test, Y_train, Y_test = train_test_split(X, Y, test_size=0.25, random_state=42)\n",
        "\n",
        "be_c = GaussianNB()\n",
        "model_c = BaggingClassifier(be_c, n_estimators=15, random_state=42)\n",
        "model_c.fit(X_train, Y_train)\n",
        "\n",
        "Y_pred = model_c.predict(X_test)\n",
        "accuracy = accuracy_score(Y_test, Y_pred)\n",
        "print(\"MSE for Bagging Classifier (Naive bayes):\", accuracy)\n",
        "\n",
        "print(\"Data tiap model bootstrap:\")\n",
        "for i, samples in enumerate(model_c.estimators_samples_, start=1):\n",
        "    print(f\"Data model {i} = {X_train[samples].flatten()}\")\n",
        "\n",
        "print(\"Akurasi tiap model:\")\n",
        "for i, estimator in enumerate(model_c.estimators_, start=1):\n",
        "  y_pred = estimator.predict(X_test)\n",
        "  acc = accuracy_score(Y_test, y_pred)\n",
        "  print(f\"Model {i} = {acc:.4f}\")\n",
        "\n"
      ],
      "metadata": {
        "colab": {
          "base_uri": "https://localhost:8080/",
          "height": 211
        },
        "id": "uhH2lNYub9ky",
        "outputId": "2f935a60-8591-437c-d774-3f6a1948494e"
      },
      "execution_count": 17,
      "outputs": [
        {
          "output_type": "error",
          "ename": "NameError",
          "evalue": "name 'GaussianNB' is not defined",
          "traceback": [
            "\u001b[0;31m---------------------------------------------------------------------------\u001b[0m",
            "\u001b[0;31mNameError\u001b[0m                                 Traceback (most recent call last)",
            "\u001b[0;32m<ipython-input-17-5ca30f69de8b>\u001b[0m in \u001b[0;36m<cell line: 8>\u001b[0;34m()\u001b[0m\n\u001b[1;32m      6\u001b[0m \u001b[0mX_train\u001b[0m\u001b[0;34m,\u001b[0m \u001b[0mX_test\u001b[0m\u001b[0;34m,\u001b[0m \u001b[0mY_train\u001b[0m\u001b[0;34m,\u001b[0m \u001b[0mY_test\u001b[0m \u001b[0;34m=\u001b[0m \u001b[0mtrain_test_split\u001b[0m\u001b[0;34m(\u001b[0m\u001b[0mX\u001b[0m\u001b[0;34m,\u001b[0m \u001b[0mY\u001b[0m\u001b[0;34m,\u001b[0m \u001b[0mtest_size\u001b[0m\u001b[0;34m=\u001b[0m\u001b[0;36m0.25\u001b[0m\u001b[0;34m,\u001b[0m \u001b[0mrandom_state\u001b[0m\u001b[0;34m=\u001b[0m\u001b[0;36m42\u001b[0m\u001b[0;34m)\u001b[0m\u001b[0;34m\u001b[0m\u001b[0;34m\u001b[0m\u001b[0m\n\u001b[1;32m      7\u001b[0m \u001b[0;34m\u001b[0m\u001b[0m\n\u001b[0;32m----> 8\u001b[0;31m \u001b[0mbe_c\u001b[0m \u001b[0;34m=\u001b[0m \u001b[0mGaussianNB\u001b[0m\u001b[0;34m(\u001b[0m\u001b[0;34m)\u001b[0m\u001b[0;34m\u001b[0m\u001b[0;34m\u001b[0m\u001b[0m\n\u001b[0m\u001b[1;32m      9\u001b[0m \u001b[0mmodel_c\u001b[0m \u001b[0;34m=\u001b[0m \u001b[0mBaggingClassifier\u001b[0m\u001b[0;34m(\u001b[0m\u001b[0mbe_c\u001b[0m\u001b[0;34m,\u001b[0m \u001b[0mn_estimators\u001b[0m\u001b[0;34m=\u001b[0m\u001b[0;36m15\u001b[0m\u001b[0;34m,\u001b[0m \u001b[0mrandom_state\u001b[0m\u001b[0;34m=\u001b[0m\u001b[0;36m42\u001b[0m\u001b[0;34m)\u001b[0m\u001b[0;34m\u001b[0m\u001b[0;34m\u001b[0m\u001b[0m\n\u001b[1;32m     10\u001b[0m \u001b[0mmodel_c\u001b[0m\u001b[0;34m.\u001b[0m\u001b[0mfit\u001b[0m\u001b[0;34m(\u001b[0m\u001b[0mX_train\u001b[0m\u001b[0;34m,\u001b[0m \u001b[0mY_train\u001b[0m\u001b[0;34m)\u001b[0m\u001b[0;34m\u001b[0m\u001b[0;34m\u001b[0m\u001b[0m\n",
            "\u001b[0;31mNameError\u001b[0m: name 'GaussianNB' is not defined"
          ]
        }
      ]
    },
    {
      "cell_type": "code",
      "execution_count": 4,
      "metadata": {
        "colab": {
          "base_uri": "https://localhost:8080/",
          "height": 211
        },
        "id": "fyv3ifMLdJ8A",
        "outputId": "53dc2c5b-5e7d-4e10-d6ba-910b477d1a6a"
      },
      "outputs": [
        {
          "output_type": "error",
          "ename": "NameError",
          "evalue": "name 'pd' is not defined",
          "traceback": [
            "\u001b[0;31m---------------------------------------------------------------------------\u001b[0m",
            "\u001b[0;31mNameError\u001b[0m                                 Traceback (most recent call last)",
            "\u001b[0;32m<ipython-input-4-555c71598c1d>\u001b[0m in \u001b[0;36m<cell line: 3>\u001b[0;34m()\u001b[0m\n\u001b[1;32m      1\u001b[0m \u001b[0;32mfrom\u001b[0m \u001b[0msklearn\u001b[0m\u001b[0;34m.\u001b[0m\u001b[0mimpute\u001b[0m \u001b[0;32mimport\u001b[0m \u001b[0mSimpleImputer\u001b[0m  \u001b[0;31m# Import SimpleImputer\u001b[0m\u001b[0;34m\u001b[0m\u001b[0;34m\u001b[0m\u001b[0m\n\u001b[1;32m      2\u001b[0m \u001b[0;31m# Data berdimensi Tinggi\u001b[0m\u001b[0;34m\u001b[0m\u001b[0;34m\u001b[0m\u001b[0m\n\u001b[0;32m----> 3\u001b[0;31m \u001b[0mdata\u001b[0m \u001b[0;34m=\u001b[0m \u001b[0mpd\u001b[0m\u001b[0;34m.\u001b[0m\u001b[0mread_csv\u001b[0m\u001b[0;34m(\u001b[0m\u001b[0;34m'df_final_features.csv'\u001b[0m\u001b[0;34m)\u001b[0m\u001b[0;34m\u001b[0m\u001b[0;34m\u001b[0m\u001b[0m\n\u001b[0m\u001b[1;32m      4\u001b[0m \u001b[0mdata\u001b[0m\u001b[0;34m.\u001b[0m\u001b[0mhead\u001b[0m\u001b[0;34m(\u001b[0m\u001b[0;36m5\u001b[0m\u001b[0;34m)\u001b[0m\u001b[0;34m\u001b[0m\u001b[0;34m\u001b[0m\u001b[0m\n\u001b[1;32m      5\u001b[0m \u001b[0;34m\u001b[0m\u001b[0m\n",
            "\u001b[0;31mNameError\u001b[0m: name 'pd' is not defined"
          ]
        }
      ],
      "source": [
        "from sklearn.impute import SimpleImputer  # Import SimpleImputer\n",
        "# Data berdimensi Tinggi\n",
        "\n",
        "data = pd.read_csv('df_final_features.csv')\n",
        "data.head(5)\n",
        "\n",
        "\n",
        "# model Decision Tree tanpa bagging\n",
        "model = DecisionTreeClassifier()\n",
        "\n",
        "# Melatih model\n",
        "model.fit(X_train, y_train)\n",
        "\n",
        "# Membuat prediksi pada data uji\n",
        "y_pred = model.predict(X_test)\n",
        "\n",
        "# Menghitung akurasi\n",
        "accuracy = accuracy_score(y_test, y_pred)\n",
        "\n",
        "print(f\"Akurasi    Decision Tree tanpa bagging: {accuracy:.4f}\")\n",
        "\n",
        "\n",
        "# Membuat model Decision Tree sebagai dasar\n",
        "clf = DecisionTreeClassifier()\n",
        "\n",
        "# Membuat model Bagging dengan Naive Bayes sebagai estimator dasar (ini ada kesalahan)\n",
        "# Harusnya: Membuat model Bagging dengan Decision Tree sebagai estimator dasar\n",
        "bagging_clf = BaggingClassifier(clf, n_estimators=100, random_state=None)\n",
        "\n",
        "# Melatih model\n",
        "bagging_clf.fit(X_train, y_train)\n",
        "\n",
        "# Membuat prediksi pada data uji\n",
        "y_pred = bagging_clf.predict(X_test)\n",
        "\n",
        "# Menghitung akurasi\n",
        "accuracy = accuracy_score(y_test, y_pred)\n",
        "\n",
        "print(f\"Akurasi Bagging dengan Decision Tree: {accuracy:.4f}\")"
      ]
    },
    {
      "cell_type": "markdown",
      "source": [
        "## Soal 9\n"
      ],
      "metadata": {
        "id": "hdCtQeFKcpjl"
      }
    },
    {
      "cell_type": "code",
      "source": [
        "#import library yang akan digunakan\n",
        "import numpy as np\n",
        "import pandas as pd\n",
        "from sklearn.ensemble import AdaBoostClassifier\n",
        "from sklearn.tree import DecisionTreeClassifier\n",
        "from sklearn.metrics import accuracy_score\n",
        "from sklearn.model_selection import train_test_split\n",
        "\n",
        "# Inisialisasi data\n",
        "#X merupakan fitur data\n",
        "X= np.array([[1], [2], [3], [4], [5], [6], [7], [8], [9], [10], [11], [12], [13], [14], [15]])\n",
        "# y merupakan label dari deta y\n",
        "y= np.array([1, -1, 1, -1, 1, -1, 1, -1, 1, -1, 1, -1, 1, 1, 1])\n",
        "\n",
        "#Bagi data latih dan data uji\n",
        "X_train, X_test, y_train, y_test = train_test_split(X, y, test_size=0.25, random_state=42)\n",
        "\n",
        "#Inisialisasi weak learner yang akan digunakan pada Adaboost\n",
        "#Decision Tree dipilih sebagai weak learner dengan max_depth=1\n",
        "weak_learner = DecisionTreeClassifier(max_depth=1)\n",
        "\n",
        "#Buat model Adaboost. Gunakan weak learner (Decision Tree) sebagai estimatornya\n",
        "adaboost = AdaBoostClassifier(estimator=weak_learner, n_estimators=50)\n",
        "\n",
        "#Latih model AdaBoost yang telah dibangun\n",
        "adaboost.fit(X_train, y_train)\n",
        "\n",
        "# Prediksi data uji menggunakan model yang sudah dilatih\n",
        "y_pred = adaboost.predict(X_test)\n",
        "\n",
        "#Hitung akurasi\n",
        "accuracy = accuracy_score(y_test, y_pred)\n",
        "\n",
        "print(y_pred)\n",
        "print(y_test)\n",
        "print (f\"Akurasi:{accuracy} \")\n",
        "\n"
      ],
      "metadata": {
        "id": "RMENPRPbrzpN",
        "outputId": "971a6e17-2f8c-4a3d-c023-57d4d0ba79c1",
        "colab": {
          "base_uri": "https://localhost:8080/"
        }
      },
      "execution_count": 25,
      "outputs": [
        {
          "output_type": "stream",
          "name": "stdout",
          "text": [
            "[ 1  1 -1  1]\n",
            "[-1 -1  1  1]\n",
            "Akurasi:0.25 \n"
          ]
        },
        {
          "output_type": "stream",
          "name": "stderr",
          "text": [
            "/usr/local/lib/python3.10/dist-packages/sklearn/ensemble/_weight_boosting.py:527: FutureWarning: The SAMME.R algorithm (the default) is deprecated and will be removed in 1.6. Use the SAMME algorithm to circumvent this warning.\n",
            "  warnings.warn(\n"
          ]
        }
      ]
    }
  ]
}